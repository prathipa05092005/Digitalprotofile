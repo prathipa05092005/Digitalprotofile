{
  "nbformat": 4,
  "nbformat_minor": 0,
  "metadata": {
    "colab": {
      "provenance": [],
      "authorship_tag": "ABX9TyPtO9s/maLdvXjVEAKbTvlp",
      "include_colab_link": true
    },
    "kernelspec": {
      "name": "python3",
      "display_name": "Python 3"
    },
    "language_info": {
      "name": "python"
    }
  },
  "cells": [
    {
      "cell_type": "markdown",
      "metadata": {
        "id": "view-in-github",
        "colab_type": "text"
      },
      "source": [
        "<a href=\"https://colab.research.google.com/github/prathipa05092005/Digitalprotofile/blob/main/prathi.ipynb\" target=\"_parent\"><img src=\"https://colab.research.google.com/assets/colab-badge.svg\" alt=\"Open In Colab\"/></a>"
      ]
    },
    {
      "cell_type": "code",
      "execution_count": null,
      "metadata": {
        "id": "ZzBG9r0YTuKj"
      },
      "outputs": [],
      "source": [
        "# Step 1: Import Required Libraries\n",
        "import pandas as pd\n",
        "import matplotlib.pyplot as plt\n",
        "import seaborn as sns\n",
        "\n",
        "# Optional: Seaborn styling\n",
        "sns.set(style=\"whitegrid\")\n",
        "\n",
        "# Step 2: Load the Olympiccsvs Dataset\n",
        "df = pd.read_csv(\"/content/athlete_events.csv\")\n",
        "\n",
        "# Step 3: Preprocessing\n",
        "# Fill missing medals with 'No Medal'\n",
        "df['Medal'].fillna('No Medal', inplace=True)\n",
        "\n",
        "# Optional: drop duplicates (e.g., in team sports)\n",
        "df = df.drop_duplicates(subset=['Team', 'Year', 'Event', 'Medal', 'Name'])\n",
        "\n",
        "# Step 4: Filter for Medal Winners Only\n",
        "medal_df = df[df['Medal'] != 'No Medal']\n",
        "\n",
        "# Step 5: Group by Country and Medal Type\n",
        "country_medals = medal_df.groupby(['NOC', 'Medal']).size().unstack(fill_value=0)\n",
        "\n",
        "# Step 6: Add Total Medal Count Column\n",
        "country_medals['Total'] = country_medals.sum(axis=1)\n",
        "\n",
        "# Step 7: Sort Countries by Total Medals\n",
        "country_medals = country_medals.sort_values(by='Total', ascending=False)\n",
        "\n",
        "# Step 8: Display Top 10 Countries\n",
        "print(\"Top 10 Countries by Total Medals:\\n\")\n",
        "print(country_medals.head(10))\n",
        "\n",
        "# Step 9: Plot Top 10 Countries by Medals\n",
        "top_10_countries = country_medals.head(10)\n",
        "\n",
        "plt.figure(figsize=(12, 6))\n",
        "top_10_countries[['Gold', 'Silver', 'Bronze']].plot(kind='bar', stacked=True, figsize=(12, 6))\n",
        "plt.title('Top 10 Countries by Total Medals')\n",
        "plt.xlabel('Country')\n",
        "plt.ylabel('Number of Medals')\n",
        "plt.xticks(rotation=45, ha='right')\n",
        "plt.tight_layout()\n",
        "plt.show()"
      ]
    }
  ]
}