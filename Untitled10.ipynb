{
  "nbformat": 4,
  "nbformat_minor": 0,
  "metadata": {
    "colab": {
      "provenance": [],
      "authorship_tag": "ABX9TyOemf0w2HwigJ03iXZJ+H7h",
      "include_colab_link": true
    },
    "kernelspec": {
      "name": "python3",
      "display_name": "Python 3"
    },
    "language_info": {
      "name": "python"
    }
  },
  "cells": [
    {
      "cell_type": "markdown",
      "metadata": {
        "id": "view-in-github",
        "colab_type": "text"
      },
      "source": [
        "<a href=\"https://colab.research.google.com/github/prathipa05092005/Digitalprotofile/blob/main/Untitled10.ipynb\" target=\"_parent\"><img src=\"https://colab.research.google.com/assets/colab-badge.svg\" alt=\"Open In Colab\"/></a>"
      ]
    },
    {
      "cell_type": "code",
      "execution_count": 3,
      "metadata": {
        "colab": {
          "base_uri": "https://localhost:8080/"
        },
        "id": "pHfySJ60vz5H",
        "outputId": "d6045bf8-1903-48c0-9d6b-d43763bd0612"
      },
      "outputs": [
        {
          "output_type": "stream",
          "name": "stdout",
          "text": [
            "   Student_ID       Name  Math_Score  Science_Score  English_Score\n",
            "0           1  Student_1          58             51             57\n",
            "1           2  Student_2          89             51             88\n",
            "2           3  Student_3          81             55             60\n",
            "3           4  Student_4          96             78             79\n",
            "4           5  Student_5          40             73             75\n",
            "Missing values:\n",
            " Student_ID       0\n",
            "Name             0\n",
            "Math_Score       0\n",
            "Science_Score    0\n",
            "English_Score    0\n",
            "dtype: int64\n",
            "Final dataset shape: (500, 5)\n"
          ]
        },
        {
          "output_type": "stream",
          "name": "stderr",
          "text": [
            "/tmp/ipython-input-3-1787420733.py:13: FutureWarning: A value is trying to be set on a copy of a DataFrame or Series through chained assignment using an inplace method.\n",
            "The behavior will change in pandas 3.0. This inplace method will never work because the intermediate object on which we are setting values always behaves as a copy.\n",
            "\n",
            "For example, when doing 'df[col].method(value, inplace=True)', try using 'df.method({col: value}, inplace=True)' or df[col] = df[col].method(value) instead, to perform the operation inplace on the original object.\n",
            "\n",
            "\n",
            "  df[\"Math_Score\"].fillna(df[\"Math_Score\"].mean(), inplace=True)\n"
          ]
        }
      ],
      "source": [
        "import pandas as pd\n",
        "\n",
        "# Load dataset\n",
        "df= pd.read_csv(\"/content/student_performance.csv\")\n",
        "\n",
        "# view first few rows\n",
        "print(df.head())\n",
        "\n",
        "# 1. Check missing values\n",
        "print(\"Missing values:\\n\", df.isnull().sum())\n",
        "\n",
        "# 2. Fill missing values in 'Math_Score' if any\n",
        "df[\"Math_Score\"].fillna(df[\"Math_Score\"].mean(), inplace=True)\n",
        "\n",
        "# 3. Remove duplicates\n",
        "df.drop_duplicates(inplace=True)\n",
        "\n",
        "# 4. Drop rows with any remaining missing values\n",
        "df.dropna(inplace=True)\n",
        "\n",
        "# 5. Print cleaned dataset shape\n",
        "print(\"Final dataset shape:\",df.shape)"
      ]
    }
  ]
}