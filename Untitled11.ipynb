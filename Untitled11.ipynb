{
  "nbformat": 4,
  "nbformat_minor": 0,
  "metadata": {
    "colab": {
      "provenance": [],
      "authorship_tag": "ABX9TyNzVMoRQffJciiB6dnq1wNB",
      "include_colab_link": true
    },
    "kernelspec": {
      "name": "python3",
      "display_name": "Python 3"
    },
    "language_info": {
      "name": "python"
    }
  },
  "cells": [
    {
      "cell_type": "markdown",
      "metadata": {
        "id": "view-in-github",
        "colab_type": "text"
      },
      "source": [
        "<a href=\"https://colab.research.google.com/github/prathipa05092005/Digitalprotofile/blob/main/Untitled11.ipynb\" target=\"_parent\"><img src=\"https://colab.research.google.com/assets/colab-badge.svg\" alt=\"Open In Colab\"/></a>"
      ]
    },
    {
      "cell_type": "code",
      "execution_count": 3,
      "metadata": {
        "colab": {
          "base_uri": "https://localhost:8080/"
        },
        "id": "aq2-PQkswXts",
        "outputId": "634d3d34-9140-418a-9534-9d0141582cea"
      },
      "outputs": [
        {
          "output_type": "stream",
          "name": "stdout",
          "text": [
            "   Student_ID       Name  Math_Score  Science_Score  English_Score\n",
            "0           1  Student_1          58             51             57\n",
            "1           2  Student_2          89             51             88\n",
            "2           3  Student_3          81             55             60\n",
            "3           4  Student_4          96             78             79\n",
            "4           5  Student_5          40             73             75\n",
            "Encoded DataFrame:\n",
            "   Student_ID       Name  Math_Score  Science_Score  English_Score\n",
            "0           1  Student_1          58             51             57\n",
            "1           2  Student_2          89             51             88\n",
            "2           3  Student_3          81             55             60\n",
            "3           4  Student_4          96             78             79\n",
            "4           5  Student_5          40             73             75\n"
          ]
        }
      ],
      "source": [
        "import pandas as pd\n",
        "\n",
        "# Step 1: Csv load pannrom\n",
        "df=pd.read_csv(\"/content/student_performance.csv\")\n",
        "\n",
        "# Step 3:Top 5rows prints pannrom\n",
        "print(df.head())\n",
        "\n",
        "print(\"Encoded DataFrame:\")\n",
        "print(df.head())"
      ]
    }
  ]
}